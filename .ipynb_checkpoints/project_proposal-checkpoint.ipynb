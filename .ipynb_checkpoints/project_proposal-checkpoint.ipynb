{
 "cells": [
  {
   "cell_type": "markdown",
   "metadata": {},
   "source": [
    "## Project Proposal  \n",
    "Name of project: Fraudulent or Not ? \n",
    "\n",
    "Cristal Meza and Luke Nguyen"
   ]
  },
  {
   "cell_type": "markdown",
   "metadata": {},
   "source": [
    "### Dataset Description  \n",
    "Dataset description: This dataset tracks transactions and states if a transaction was fraudulent or not.  \n",
    "Source: Kaggle - https://www.kaggle.com/datasets/vardhansiramdasu/fraudulent-transactions-prediction\n",
    "\n",
    "Class labels (taken directly from kaggle):  \n",
    "* step - maps a unit of time in the real world. In this case 1 step is 1 hour of time. Total steps 744 (30 days simulation).  \n",
    "\n",
    "* type - CASH-IN, CASH-OUT, DEBIT, PAYMENT and TRANSFER.  \n",
    "\n",
    "* amount - amount of the transaction in local currency.  \n",
    "\n",
    "* nameOrig - customer who started the transaction  \n",
    "\n",
    "* oldbalanceOrg - initial balance before the transaction  \n",
    "\n",
    "* newbalanceOrig - new balance after the transaction  \n",
    "\n",
    "* nameDest - customer who is the recipient of the transaction  \n",
    "\n",
    "* oldbalanceDest - initial balance recipient before the transaction. Note that there is not information for customers that start with M (Merchants).  \n",
    "\n",
    "* newbalanceDest - new balance recipient after the transaction. Note that there is not information for customers that start with M (Merchants).  \n",
    "\n",
    "* isFraud - This is the transactions made by the fraudulent agents inside the simulation. In this specific dataset the fraudulent behavior of the agents aims to profit by taking control or customers accounts and try to empty the funds by transferring to another account and then cashing out of the system.  \n",
    "\n",
    "* isFlaggedFraud - The business model aims to control massive transfers from one account to another and flags illegal attempts. An illegal attempt in this dataset is an attempt to transfer more than 200.000 in a single transaction.  \n",
    "\n",
    "Class attributes:  \n",
    "\n",
    "* isFraud: We would try to predict if the particular transaction is fraudulennt and this class label is the answer,"
   ]
  },
  {
   "cell_type": "markdown",
   "metadata": {},
   "source": [
    "### Implementation and Technical Merit  \n",
    "This dataset currently has 6362620 rows, which is a large amount of data to sort out. We expect to take a small sample of this dataset to test our code. We are not expecting to do much cleaning on the dataset as it is already in .CSV format and all the data is numeric.  \n",
    "For the classification, in addition to the random forest, we will be using decision tree classifier and dummy classifier to compare the results. "
   ]
  },
  {
   "cell_type": "markdown",
   "metadata": {},
   "source": [
    "### Potential Impact of the results  \n",
    "There test results are useful because we are using various factors to predict if a transaction is fraudelent. This is something that banks need in order to help a customer whose bank account has been targeted. It is also useful for banks as they are able to detect fraudelent activity and contact the customer to verify that the transaction was meant to happen. "
   ]
  }
 ],
 "metadata": {
  "interpreter": {
   "hash": "d4d1e4263499bec80672ea0156c357c1ee493ec2b1c70f0acce89fc37c4a6abe"
  },
  "kernelspec": {
   "display_name": "Python 3.9.7 ('base')",
   "language": "python",
   "name": "python3"
  },
  "language_info": {
   "name": "python",
   "version": "3.9.7"
  },
  "orig_nbformat": 4
 },
 "nbformat": 4,
 "nbformat_minor": 2
}
