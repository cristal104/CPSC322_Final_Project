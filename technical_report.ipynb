{
 "cells": [
  {
   "cell_type": "markdown",
   "metadata": {},
   "source": [
    "## Technical Report: Finding Fraudelent Activity  \n",
    "Project Name: Fraudulent or Not?  \n",
    "Team Members: Cristal Meza and Luke Nguyen  \n",
    "CPSC 322, Spring 2022"
   ]
  },
  {
   "cell_type": "markdown",
   "metadata": {},
   "source": [
    "### Introduction  \n",
    "For this project, we decided upon a dataset that contained a number of transactions in which several were flagged as fraudelent and several were flagged as actually being fraudelent. We saw that this would make a good dataset for classification as we can train a classifier to be able to flag and determine from several attributes if a bank transaction is fraudelent or not.  \n",
    "The \"isFraud\" class label on the dataset is the one that was chosen to be y_train for our dataset. "
   ]
  },
  {
   "cell_type": "markdown",
   "metadata": {},
   "source": [
    "### Data Analysis  "
   ]
  },
  {
   "cell_type": "code",
   "execution_count": 1,
   "metadata": {},
   "outputs": [],
   "source": [
    "# read the CSV file to a table\n",
    "import myutils\n",
    "import plot_utils\n",
    "header, table = myutils.read_csv_to_table(\"Fraud.csv\")"
   ]
  },
  {
   "cell_type": "markdown",
   "metadata": {},
   "source": [
    "#### Information about the dataset  \n",
    "Class labels (taken directly from kaggle):  \n",
    "* step - maps a unit of time in the real world. In this case 1 step is 1 hour of time. Total steps 744 (30 days simulation).  \n",
    "\n",
    "* type - CASH-IN, CASH-OUT, DEBIT, PAYMENT and TRANSFER.  \n",
    "\n",
    "* amount - amount of the transaction in local currency.  \n",
    "\n",
    "* nameOrig - customer who started the transaction  \n",
    "\n",
    "* oldbalanceOrg - initial balance before the transaction  \n",
    "\n",
    "* newbalanceOrig - new balance after the transaction  \n",
    "\n",
    "* nameDest - customer who is the recipient of the transaction  \n",
    "\n",
    "* oldbalanceDest - initial balance recipient before the transaction. Note that there is not information for customers that start with M (Merchants).  \n",
    "\n",
    "* newbalanceDest - new balance recipient after the transaction. Note that there is not information for customers that start with M (Merchants).  \n",
    "\n",
    "* isFraud - This is the transactions made by the fraudulent agents inside the simulation. In this specific dataset the fraudulent behavior of the agents aims to profit by taking control or customers accounts and try to empty the funds by transferring to another account and then cashing out of the system.  \n",
    "\n",
    "* isFlaggedFraud - The business model aims to control massive transfers from one account to another and flags illegal attempts. An illegal attempt in this dataset is an attempt to transfer more than 200.000 in a single transaction.  \n",
    "\n",
    "Class attributes:  \n",
    "\n",
    "* isFraud: We would try to predict if the particular transaction is fraudulennt and this class label is the answer,"
   ]
  },
  {
   "cell_type": "markdown",
   "metadata": {},
   "source": [
    "### Relevant Summary Statistics"
   ]
  },
  {
   "cell_type": "markdown",
   "metadata": {},
   "source": [
    "#### Data visualizations  \n",
    "Below are some data visualizations that highlight important and unteresting aspects of the dataset."
   ]
  },
  {
   "cell_type": "code",
   "execution_count": 2,
   "metadata": {},
   "outputs": [
    {
     "data": {
      "image/png": "[encoded data removed]",
      "text/plain": [
       "<Figure size 432x288 with 1 Axes>"
      ]
     },
     "metadata": {},
     "output_type": "display_data"
    }
   ],
   "source": [
    "# Pie Chart - Number of transactions flagged as fraudelent\n",
    "flagged_values, flagged_count = myutils.get_frequencies(table, header, \"isFlaggedFraud\")\n",
    "plot_utils.pie_chart(flagged_values, flagged_count, \"Figure 1 - Number of transactions flagged as fraudelent\")"
   ]
  },
  {
   "cell_type": "code",
   "execution_count": 3,
   "metadata": {},
   "outputs": [
    {
     "data": {
      "image/png": "[encoded data removed]",
      "text/plain": [
       "<Figure size 432x288 with 1 Axes>"
      ]
     },
     "metadata": {},
     "output_type": "display_data"
    }
   ],
   "source": [
    "# Pie Chart - Number of transactions determined as fraudelent\n",
    "fraud_values, fraud_count = myutils.get_frequencies(table, header, \"isFraud\")\n",
    "plot_utils.pie_chart(fraud_values, fraud_count, \"Figure 2 - Number of transactions determiined as fraudelent\")"
   ]
  },
  {
   "cell_type": "markdown",
   "metadata": {},
   "source": [
    "Figure 1 showcases"
   ]
  },
  {
   "cell_type": "markdown",
   "metadata": {},
   "source": [
    "#### Data Cleaning  \n",
    "The CSV file did not have any missing data, but it was decided to remove a number of class attributes prior to classification. The removed attributes are:  \n",
    "* \"step\" - We did not deem this attribute as relevant to be included in X_train\n",
    "* \"isFlagged\" - We deemed this attribute as too similar to \"isFraud,\" which is the class label that is used for y_train. "
   ]
  },
  {
   "cell_type": "code",
   "execution_count": 4,
   "metadata": {},
   "outputs": [],
   "source": [
    "# remove \"step\" and \"isFlagged\" from the dataset\n",
    "myutils.drop_cols(table, header, \"step\")\n",
    "myutils.drop_cols(table, header, \"isFlaggedFraud\")"
   ]
  },
  {
   "cell_type": "markdown",
   "metadata": {},
   "source": [
    "### Classification Results"
   ]
  },
  {
   "cell_type": "code",
   "execution_count": 5,
   "metadata": {},
   "outputs": [],
   "source": [
    "import myclassifiers\n",
    "\n",
    "# create X_train and y_train \n",
    "X_train = table\n",
    "y_train = myutils.get_column(table, header, \"isFraud\")\n",
    "del table[-1]\n",
    "del header[-1]"
   ]
  },
  {
   "cell_type": "code",
   "execution_count": 6,
   "metadata": {},
   "outputs": [
    {
     "name": "stdout",
     "output_type": "stream",
     "text": [
      "Decision Tree\n"
     ]
    }
   ],
   "source": [
    "# fit data into Decision Tree\n",
    "print(\"Decision Tree\")\n",
    "tree_clf = myclassifiers.MyDecisionTreeClassifier()\n",
    "tree_clf.fit(X_train, y_train)\n",
    "\n",
    "X_test = X_train[25:50]\n",
    "y_actual = y_train[25:50]\n",
    "y_pred = tree_clf.predict(X_test)\n",
    "\n",
    "# results "
   ]
  },
  {
   "cell_type": "code",
   "execution_count": 8,
   "metadata": {},
   "outputs": [
    {
     "name": "stdout",
     "output_type": "stream",
     "text": [
      "Decision Tree\n",
      "0\n",
      "[['0'], ['0'], ['0'], ['0'], ['0']]\n"
     ]
    }
   ],
   "source": [
    "# fit data into Naive Bayes classifier\n",
    "print(\"Decision Tree\")\n",
    "naive_clf = myclassifiers.MyDummyClassifier()\n",
    "naive_clf.fit(X_train, y_train)\n",
    "\n",
    "X_test = (X_train[25:30])\n",
    "y_actual = (y_train[25:50])\n",
    "y_pred = naive_clf.predict(X_test)\n",
    "\n",
    "# results "
   ]
  }
 ],
 "metadata": {
  "interpreter": {
   "hash": "d4d1e4263499bec80672ea0156c357c1ee493ec2b1c70f0acce89fc37c4a6abe"
  },
  "kernelspec": {
   "display_name": "Python 3.9.7 ('base')",
   "language": "python",
   "name": "python3"
  },
  "language_info": {
   "codemirror_mode": {
    "name": "ipython",
    "version": 3
   },
   "file_extension": ".py",
   "mimetype": "text/x-python",
   "name": "python",
   "nbconvert_exporter": "python",
   "pygments_lexer": "ipython3",
   "version": "3.9.7"
  },
  "orig_nbformat": 4
 },
 "nbformat": 4,
 "nbformat_minor": 2
}
