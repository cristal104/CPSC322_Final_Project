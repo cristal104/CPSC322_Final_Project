{
 "cells": [
  {
   "cell_type": "markdown",
   "metadata": {},
   "source": [
    "## Technical Report: Finding Fraudelent Activity  \n",
    "Project Name: Fraudulent or Not?  \n",
    "Team Members: Cristal Meza and Luke Nguyen  "
   ]
  },
  {
   "cell_type": "markdown",
   "metadata": {},
   "source": [
    "### Introduction  "
   ]
  },
  {
   "cell_type": "markdown",
   "metadata": {},
   "source": [
    "### Data Analysis  "
   ]
  },
  {
   "cell_type": "markdown",
   "metadata": {},
   "source": [
    "### Information about the dataset  \n",
    "Class labels (taken directly from kaggle):  \n",
    "* step - maps a unit of time in the real world. In this case 1 step is 1 hour of time. Total steps 744 (30 days simulation).  \n",
    "\n",
    "* type - CASH-IN, CASH-OUT, DEBIT, PAYMENT and TRANSFER.  \n",
    "\n",
    "* amount - amount of the transaction in local currency.  \n",
    "\n",
    "* nameOrig - customer who started the transaction  \n",
    "\n",
    "* oldbalanceOrg - initial balance before the transaction  \n",
    "\n",
    "* newbalanceOrig - new balance after the transaction  \n",
    "\n",
    "* nameDest - customer who is the recipient of the transaction  \n",
    "\n",
    "* oldbalanceDest - initial balance recipient before the transaction. Note that there is not information for customers that start with M (Merchants).  \n",
    "\n",
    "* newbalanceDest - new balance recipient after the transaction. Note that there is not information for customers that start with M (Merchants).  \n",
    "\n",
    "* isFraud - This is the transactions made by the fraudulent agents inside the simulation. In this specific dataset the fraudulent behavior of the agents aims to profit by taking control or customers accounts and try to empty the funds by transferring to another account and then cashing out of the system.  \n",
    "\n",
    "* isFlaggedFraud - The business model aims to control massive transfers from one account to another and flags illegal attempts. An illegal attempt in this dataset is an attempt to transfer more than 200.000 in a single transaction.  \n",
    "\n",
    "Class attributes:  \n",
    "\n",
    "* isFraud: We would try to predict if the particular transaction is fraudulennt and this class label is the answer,\n",
    "\n",
    "* is FlaggedFraud: We would try to flag whichever transactioin the algorithm flags as fraudelent"
   ]
  },
  {
   "cell_type": "markdown",
   "metadata": {},
   "source": [
    "### Relevant Summary Statistics"
   ]
  },
  {
   "cell_type": "markdown",
   "metadata": {},
   "source": [
    "### Data visualizations"
   ]
  },
  {
   "cell_type": "markdown",
   "metadata": {},
   "source": [
    "### Classification Results"
   ]
  }
 ],
 "metadata": {
  "language_info": {
   "name": "python"
  },
  "orig_nbformat": 4
 },
 "nbformat": 4,
 "nbformat_minor": 2
}
